{
  "nbformat": 4,
  "nbformat_minor": 0,
  "metadata": {
    "colab": {
      "name": "Schizophrenia Analysis",
      "provenance": [],
      "collapsed_sections": []
    },
    "kernelspec": {
      "name": "python3",
      "display_name": "Python 3"
    },
    "language_info": {
      "name": "python"
    }
  },
  "cells": [
    {
      "cell_type": "code",
      "source": [
        "'''Reading Data'''"
      ],
      "metadata": {
        "id": "LOfY4vk6SS7_"
      },
      "execution_count": null,
      "outputs": []
    },
    {
      "cell_type": "code",
      "source": [
        "!pip install mne\n",
        "from glob import glob\n",
        "import os\n",
        "import mne\n",
        "import numpy as np\n",
        "import pandas\n",
        "import matplotlib.pyplot as plt\n"
      ],
      "metadata": {
        "id": "CVA1mITP5SMc",
        "colab": {
          "base_uri": "https://localhost:8080/"
        },
        "outputId": "53f83a7c-26d6-435b-eeb7-1ff17f56ede4"
      },
      "execution_count": null,
      "outputs": [
        {
          "output_type": "stream",
          "name": "stdout",
          "text": [
            "Collecting mne\n",
            "  Downloading mne-0.24.1-py3-none-any.whl (7.4 MB)\n",
            "\u001b[K     |████████████████████████████████| 7.4 MB 4.3 MB/s \n",
            "\u001b[?25hRequirement already satisfied: numpy>=1.15.4 in /usr/local/lib/python3.7/dist-packages (from mne) (1.19.5)\n",
            "Requirement already satisfied: scipy>=1.1.0 in /usr/local/lib/python3.7/dist-packages (from mne) (1.4.1)\n",
            "Installing collected packages: mne\n",
            "Successfully installed mne-0.24.1\n"
          ]
        }
      ]
    },
    {
      "cell_type": "code",
      "source": [
        "allfile_path=glob('dataset/*.edf')\n",
        "allfile_path[0]"
      ],
      "metadata": {
        "colab": {
          "base_uri": "https://localhost:8080/",
          "height": 35
        },
        "id": "Xn8OkPKr_OpB",
        "outputId": "a337b7dc-0eb6-45d5-b96d-b656aacf2dcf"
      },
      "execution_count": 16,
      "outputs": [
        {
          "output_type": "execute_result",
          "data": {
            "application/vnd.google.colaboratory.intrinsic+json": {
              "type": "string"
            },
            "text/plain": [
              "'dataset/s05.edf'"
            ]
          },
          "metadata": {},
          "execution_count": 16
        }
      ]
    },
    {
      "cell_type": "code",
      "source": [
        "healthy_path=[i for i in allfile_path if 'h' in i.split('/')[1]]\n",
        "patient_path=[i for i in allfile_path if 's' in i.split('/')[1]]"
      ],
      "metadata": {
        "id": "cMeAKMdV__zD"
      },
      "execution_count": 18,
      "outputs": []
    },
    {
      "cell_type": "code",
      "source": [
        "print(len(patient_path))"
      ],
      "metadata": {
        "colab": {
          "base_uri": "https://localhost:8080/"
        },
        "id": "LZR91B8x_TQy",
        "outputId": "855b83f3-c9aa-4f3b-9d9d-17d0264386b6"
      },
      "execution_count": 20,
      "outputs": [
        {
          "output_type": "stream",
          "name": "stdout",
          "text": [
            "14\n"
          ]
        }
      ]
    },
    {
      "cell_type": "code",
      "source": [
        "def read_data(file_path):\n",
        "  data=mne.io.read_raw_edf(file_path, preload=True) #read data from file path\n",
        "  data.set_eeg_reference() #by default takes average of all channels\n",
        "  data.filter(l_freq=0.5,h_freq=45) # to be changed with bandpass filter?\n",
        "  #segmentation\n",
        "  epochs=mne.make_fixed_length_epochs(data,duration=5,overlap=1) #overlapping segments\n",
        "  array=epochs.get_data() #converts mne epoch object to numpy array\n",
        "  return(array)"
      ],
      "metadata": {
        "id": "WHTRVMj1CCP4"
      },
      "execution_count": 24,
      "outputs": []
    },
    {
      "cell_type": "code",
      "source": [
        "sample_data=read_data(healthy_path[0])"
      ],
      "metadata": {
        "colab": {
          "base_uri": "https://localhost:8080/"
        },
        "id": "49RN9V6zDV3_",
        "outputId": "6aa10daf-7155-48fe-df9e-8a0305faf5fb"
      },
      "execution_count": 26,
      "outputs": [
        {
          "output_type": "stream",
          "name": "stdout",
          "text": [
            "Extracting EDF parameters from /content/dataset/h10.edf...\n",
            "EDF file detected\n",
            "Setting channel info structure...\n",
            "Creating raw.info structure...\n",
            "Reading 0 ... 278749  =      0.000 ...  1114.996 secs...\n",
            "EEG channel type selected for re-referencing\n",
            "Applying average reference.\n",
            "Applying a custom ('EEG',) reference.\n",
            "Filtering raw data in 1 contiguous segment\n",
            "Setting up band-pass filter from 0.5 - 45 Hz\n",
            "\n",
            "FIR filter parameters\n",
            "---------------------\n",
            "Designing a one-pass, zero-phase, non-causal bandpass filter:\n",
            "- Windowed time-domain design (firwin) method\n",
            "- Hamming window with 0.0194 passband ripple and 53 dB stopband attenuation\n",
            "- Lower passband edge: 0.50\n",
            "- Lower transition bandwidth: 0.50 Hz (-6 dB cutoff frequency: 0.25 Hz)\n",
            "- Upper passband edge: 45.00 Hz\n",
            "- Upper transition bandwidth: 11.25 Hz (-6 dB cutoff frequency: 50.62 Hz)\n",
            "- Filter length: 1651 samples (6.604 sec)\n",
            "\n",
            "Not setting metadata\n",
            "Not setting metadata\n",
            "278 matching events found\n",
            "No baseline correction applied\n",
            "0 projection items activated\n",
            "Loading data for 278 events and 1250 original time points ...\n",
            "0 bad epochs dropped\n"
          ]
        }
      ]
    },
    {
      "cell_type": "code",
      "source": [
        "sample_data.shape # dimension of data => no.of epochs, channels , length of signal\n"
      ],
      "metadata": {
        "colab": {
          "base_uri": "https://localhost:8080/"
        },
        "id": "NSNBtqF4Dum0",
        "outputId": "1baf2da2-6068-4fce-c708-7a904d67456e"
      },
      "execution_count": 27,
      "outputs": [
        {
          "output_type": "execute_result",
          "data": {
            "text/plain": [
              "(278, 19, 1250)"
            ]
          },
          "metadata": {},
          "execution_count": 27
        }
      ]
    },
    {
      "cell_type": "code",
      "source": [
        "%%capture \n",
        "#capture is used to prevent the data jargon from printing\n",
        "healthy_epochs_array=[read_data(i) for i in healthy_path]\n",
        "patient_epochs_array=[read_data(i) for i in patient_path]"
      ],
      "metadata": {
        "id": "mj-D6TgTD6x2"
      },
      "execution_count": 29,
      "outputs": []
    },
    {
      "cell_type": "code",
      "source": [
        "#creating labels 0 for healthy and 1 for patient\n",
        "healthy_epoch_labels=[len(i)*[0] for i in healthy_epochs_array]\n",
        "patient_epoch_labels=[len(i)*[0] for i in patient_epochs_array]"
      ],
      "metadata": {
        "id": "8wXIb2gWEodd"
      },
      "execution_count": 32,
      "outputs": []
    },
    {
      "cell_type": "code",
      "source": [
        "data_list=healthy_epochs_array+patient_epochs_array\n",
        "label_list=healthy_epoch_labels+patient_epoch_labels"
      ],
      "metadata": {
        "id": "0FWYq_FJEZQE"
      },
      "execution_count": 35,
      "outputs": []
    },
    {
      "cell_type": "code",
      "source": [
        "%%capture\n",
        "#splitting \n",
        "group_list=[[i]*len(j) for i,j in enumerate(data_list)] #list of 0 for element 1 list of 1 for next etc multiplied bt length\n",
        "group_list"
      ],
      "metadata": {
        "id": "t-g-FafoGmaF"
      },
      "execution_count": 39,
      "outputs": []
    },
    {
      "cell_type": "code",
      "source": [
        "data_array=np.vstack(data_list) #stack arrays vertically\n",
        "label_array=np.hstack(label_list)\n",
        "group_array=np.hstack(group_list)\n",
        "\n",
        "#7201 epochs of length 1250"
      ],
      "metadata": {
        "id": "bxEar-fVRpX2"
      },
      "execution_count": 42,
      "outputs": []
    },
    {
      "cell_type": "code",
      "source": [
        "'''Feature Extaction'''"
      ],
      "metadata": {
        "id": "9nMX7xmFSGVk"
      },
      "execution_count": null,
      "outputs": []
    },
    {
      "cell_type": "code",
      "source": [
        "'''Convolution'''"
      ],
      "metadata": {
        "id": "mL9aVUnLSMKF"
      },
      "execution_count": null,
      "outputs": []
    }
  ]
}