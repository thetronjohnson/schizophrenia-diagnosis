{
  "nbformat": 4,
  "nbformat_minor": 0,
  "metadata": {
    "colab": {
      "name": "bandpass_and_fft.ipynb",
      "provenance": [],
      "collapsed_sections": []
    },
    "kernelspec": {
      "name": "python3",
      "display_name": "Python 3"
    },
    "language_info": {
      "name": "python"
    }
  },
  "cells": [
    {
      "cell_type": "code",
      "execution_count": 3,
      "metadata": {
        "id": "4BCG2vxYDgyA"
      },
      "outputs": [],
      "source": [
        "import numpy as np\n",
        "import pandas as pd\n",
        "import tensorflow as tf\n",
        "from tensorflow.keras import layers, models\n",
        "import os\n",
        "import matplotlib.pyplot as plt\n",
        "from sklearn.model_selection import train_test_split"
      ]
    },
    {
      "cell_type": "code",
      "source": [
        "from google.colab import drive\n",
        "drive.mount('/content/drive')\n",
        "!pwd"
      ],
      "metadata": {
        "colab": {
          "base_uri": "https://localhost:8080/"
        },
        "id": "GSRuYQDNDspA",
        "outputId": "dce79529-ce08-433f-f3ec-bb480a967b07"
      },
      "execution_count": 4,
      "outputs": [
        {
          "output_type": "stream",
          "name": "stdout",
          "text": [
            "Mounted at /content/drive\n",
            "/content\n"
          ]
        }
      ]
    },
    {
      "cell_type": "code",
      "source": [
        "PATIENT_PATH = \"/content/drive/MyDrive/dataset/patient/\"\n",
        "HEALTHY_PATH = \"/content/drive/MyDrive/dataset/healthy/\"\n",
        "patient_data = [ PATIENT_PATH + f\"patient_{i}.csv\" for i in range(0,35)]\n",
        "healthy_data = [ HEALTHY_PATH + f\"healthy{i}.csv\" for i in range(0,35)]\n",
        "patient_df = [pd.read_csv(f\"{i}\") for i in patient_data]\n",
        "healthy_df = [pd.read_csv(f\"{i}\") for i in healthy_data]"
      ],
      "metadata": {
        "id": "FAkCb0fAT6gI"
      },
      "execution_count": 5,
      "outputs": []
    },
    {
      "cell_type": "code",
      "source": [
        "for i in range(35):\n",
        "  patient_df[i].pop('Unnamed: 0')\n",
        "  healthy_df[i].pop('Unnamed: 0')"
      ],
      "metadata": {
        "id": "5cb0P3tDD2ND"
      },
      "execution_count": 153,
      "outputs": []
    },
    {
      "cell_type": "code",
      "source": [
        "def BandPassFilter(df):\n",
        "  fs=7680\n",
        "  low_cut=0.1\n",
        "  high_cut=64.0\n",
        "  nqy=0.5*fs\n",
        "  low=low_cut/nqy\n",
        "  high=high_cut/nqy\n",
        "  order=2\n",
        "  pass_data = pd.DataFrame()\n",
        "  for index in list(df.index):\n",
        "    data = df.loc[index]\n",
        "    b,a= scipy.signal.butter(order,[low,high],'bandpass',analog=False)\n",
        "    y=scipy.signal.filtfilt(b,a,data,axis=0)\n",
        "    ser = pd.Series(y,name=index)\n",
        "    pass_data = pass_data.append(ser)\n",
        "  return pass_data"
      ],
      "metadata": {
        "id": "GAUjGGLeEFLl"
      },
      "execution_count": 2,
      "outputs": []
    },
    {
      "cell_type": "code",
      "source": [
        "''' Segmentation '''"
      ],
      "metadata": {
        "id": "w0KFHCzDnT50"
      },
      "execution_count": null,
      "outputs": []
    },
    {
      "cell_type": "code",
      "source": [
        "def FFT(df):\n",
        "    fs = 128 # Sampling rate (128 Hz)\n",
        "    band_data = pd.DataFrame() \n",
        "    for index in list(df.index):\n",
        "        data = df.loc[index]  # 2 sec of data b/w 0.0-100.0\n",
        "\n",
        "        # Get real amplitudes of FFT (only in postive frequencies)\n",
        "        fft_vals = np.absolute(np.fft.rfft(data))\n",
        "        # Get frequencies for amplitudes in Hz\n",
        "        fft_freq = np.fft.rfftfreq(len(data), 1.0/fs)\n",
        "        # Define EEG bands\n",
        "        eeg_bands = {'Delta': (0, 4),\n",
        "                     'Theta': (4, 8),\n",
        "                     'Alpha': (8, 12),\n",
        "                     'Beta': (12, 30),\n",
        "                     'Gamma': (30, 45)}\n",
        "\n",
        "        # Take the mean of the fft amplitude for each EEG band\n",
        "        eeg_band_fft = dict()\n",
        "        for band in eeg_bands:  \n",
        "            freq_ix = np.where((fft_freq >= eeg_bands[band][0]) & (fft_freq <= eeg_bands[band][1]))[0]\n",
        "            eeg_band_fft[band] = np.mean(fft_vals[freq_ix])\n",
        "\n",
        "        ser = pd.Series(eeg_band_fft,name=index)\n",
        "        band_data = band_data.append(ser)\n",
        "    return band_data"
      ],
      "metadata": {
        "id": "84GCsxKfFGiZ"
      },
      "execution_count": 155,
      "outputs": []
    },
    {
      "cell_type": "code",
      "source": [
        "patient_fft = [FFT(BandPassFilter(i)) for i in patient_df]\n",
        "healthy_fft = [FFT(BandPassFilter(j)) for j in healthy_df]"
      ],
      "metadata": {
        "id": "5BeyeSrcEJF1"
      },
      "execution_count": 163,
      "outputs": []
    },
    {
      "cell_type": "code",
      "source": [
        "feature_names = [\"Alpha\",\"Beta\",\"Delta\",\"Gamma\",\"Theta\"]\n",
        "patient = [] \n",
        "healthy = []\n",
        "for i in range(0,30):\n",
        "  patient.append(np.array(patient_fft[i][feature_names]))\n",
        "  healthy.append(np.array(healthy_fft[i][feature_names]))"
      ],
      "metadata": {
        "id": "vVB3ngK3U_x1"
      },
      "execution_count": 181,
      "outputs": []
    },
    {
      "cell_type": "code",
      "source": [
        ""
      ],
      "metadata": {
        "colab": {
          "base_uri": "https://localhost:8080/"
        },
        "id": "4pJXyq_wZZuC",
        "outputId": "c7565441-8cc2-4524-b49e-45d2b64e162a"
      },
      "execution_count": 189,
      "outputs": [
        {
          "output_type": "execute_result",
          "data": {
            "text/plain": [
              "(5, 16)"
            ]
          },
          "metadata": {},
          "execution_count": 189
        }
      ]
    },
    {
      "cell_type": "code",
      "source": [
        ""
      ],
      "metadata": {
        "id": "Rcai2oz-aQKk"
      },
      "execution_count": 195,
      "outputs": []
    },
    {
      "cell_type": "code",
      "source": [
        ""
      ],
      "metadata": {
        "id": "9NPmX2tzceVr"
      },
      "execution_count": 192,
      "outputs": []
    },
    {
      "cell_type": "code",
      "source": [
        ""
      ],
      "metadata": {
        "id": "7fMD23uidsjB"
      },
      "execution_count": null,
      "outputs": []
    }
  ]
}