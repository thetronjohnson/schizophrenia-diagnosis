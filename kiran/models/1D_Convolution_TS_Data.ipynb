{
  "nbformat": 4,
  "nbformat_minor": 0,
  "metadata": {
    "colab": {
      "name": "1D_Convolution_TS_Data",
      "provenance": [],
      "collapsed_sections": []
    },
    "kernelspec": {
      "name": "python3",
      "display_name": "Python 3"
    },
    "language_info": {
      "name": "python"
    }
  },
  "cells": [
    {
      "cell_type": "code",
      "source": [
        "'''Reading Data'''\n",
        "'''\n",
        "Sampling Frequency = 250hz\n",
        "Channels = 19\n",
        "'''"
      ],
      "metadata": {
        "id": "LOfY4vk6SS7_",
        "colab": {
          "base_uri": "https://localhost:8080/",
          "height": 35
        },
        "outputId": "3a1de98e-d5c5-40fa-e4d6-5907c884878d"
      },
      "execution_count": 1,
      "outputs": [
        {
          "output_type": "execute_result",
          "data": {
            "application/vnd.google.colaboratory.intrinsic+json": {
              "type": "string"
            },
            "text/plain": [
              "'\\nSampling Frequency = 250hz\\nChannels = 19\\n'"
            ]
          },
          "metadata": {},
          "execution_count": 1
        }
      ]
    },
    {
      "cell_type": "code",
      "source": [
        "!pip install mne\n",
        "from glob import glob\n",
        "import os\n",
        "import mne\n",
        "import numpy as np\n",
        "import pandas as pd\n",
        "import matplotlib.pyplot as plt"
      ],
      "metadata": {
        "id": "CVA1mITP5SMc",
        "colab": {
          "base_uri": "https://localhost:8080/"
        },
        "outputId": "d37b2656-4d37-4e84-97b6-767c4074e19f"
      },
      "execution_count": 2,
      "outputs": [
        {
          "output_type": "stream",
          "name": "stdout",
          "text": [
            "Collecting mne\n",
            "  Downloading mne-0.24.1-py3-none-any.whl (7.4 MB)\n",
            "\u001b[K     |████████████████████████████████| 7.4 MB 20.7 MB/s \n",
            "\u001b[?25hRequirement already satisfied: numpy>=1.15.4 in /usr/local/lib/python3.7/dist-packages (from mne) (1.19.5)\n",
            "Requirement already satisfied: scipy>=1.1.0 in /usr/local/lib/python3.7/dist-packages (from mne) (1.4.1)\n",
            "Installing collected packages: mne\n",
            "Successfully installed mne-0.24.1\n"
          ]
        }
      ]
    },
    {
      "cell_type": "code",
      "source": [
        "from google.colab import drive\n",
        "drive.mount('/content/drive')\n",
        "PATH = \"/content/drive/MyDrive/dataset/\""
      ],
      "metadata": {
        "colab": {
          "base_uri": "https://localhost:8080/"
        },
        "id": "mFMu3HyNvwIE",
        "outputId": "03ed7ffa-8fd5-4e6a-b1a4-1b1b0e40aedb"
      },
      "execution_count": 3,
      "outputs": [
        {
          "output_type": "stream",
          "name": "stdout",
          "text": [
            "Mounted at /content/drive\n"
          ]
        }
      ]
    },
    {
      "cell_type": "code",
      "source": [
        "FILE_PATH=glob(PATH+'data/*.edf')\n",
        "FILE_PATH[0]"
      ],
      "metadata": {
        "colab": {
          "base_uri": "https://localhost:8080/",
          "height": 35
        },
        "id": "Xn8OkPKr_OpB",
        "outputId": "fe1952cd-71a7-4afc-ad58-4fd222a81e5f"
      },
      "execution_count": 4,
      "outputs": [
        {
          "output_type": "execute_result",
          "data": {
            "application/vnd.google.colaboratory.intrinsic+json": {
              "type": "string"
            },
            "text/plain": [
              "'/content/drive/MyDrive/dataset/data/h01.edf'"
            ]
          },
          "metadata": {},
          "execution_count": 4
        }
      ]
    },
    {
      "cell_type": "code",
      "source": [
        "H_PATH=[i for i in FILE_PATH if 'h' in i.split('/')[6]]\n",
        "P_PATH=[i for i in FILE_PATH if 's' in i.split('/')[6]]"
      ],
      "metadata": {
        "id": "cMeAKMdV__zD"
      },
      "execution_count": 8,
      "outputs": []
    },
    {
      "cell_type": "code",
      "source": [
        "def read_data(PATH):\n",
        "  data=mne.io.read_raw_edf(PATH, preload=True) #read data from file path\n",
        "  data.set_eeg_reference() #by default takes average of all channels\n",
        "  data.filter(l_freq=0.5,h_freq=45) # to be changed with bandpass filter?\n",
        "  #segmentation\n",
        "  epochs=mne.make_fixed_length_epochs(data,duration=5,overlap=1) #overlapping segments\n",
        "  array=epochs.get_data() #converts mne epoch object to numpy array\n",
        "  return(array)"
      ],
      "metadata": {
        "id": "WHTRVMj1CCP4"
      },
      "execution_count": 9,
      "outputs": []
    },
    {
      "cell_type": "code",
      "source": [
        "%%capture \n",
        "#capture is used to prevent the data jargon from printing\n",
        "healthy_epochs_array=[read_data(i) for i in H_PATH]\n",
        "patient_epochs_array=[read_data(i) for i in P_PATH]"
      ],
      "metadata": {
        "id": "mj-D6TgTD6x2"
      },
      "execution_count": 10,
      "outputs": []
    },
    {
      "cell_type": "code",
      "source": [
        "#creating labels 0 for healthy and 1 for patient\n",
        "healthy_epoch_labels=[len(i)*[0] for i in healthy_epochs_array]\n",
        "#print(healthy_epoch_labels)\n",
        "patient_epoch_labels=[len(i)*[1] for i in patient_epochs_array]\n",
        "#print(patient_epoch_labels)"
      ],
      "metadata": {
        "id": "8wXIb2gWEodd"
      },
      "execution_count": 11,
      "outputs": []
    },
    {
      "cell_type": "code",
      "source": [
        "data_list=healthy_epochs_array+patient_epochs_array\n",
        "label_list=healthy_epoch_labels+patient_epoch_labels"
      ],
      "metadata": {
        "id": "0FWYq_FJEZQE"
      },
      "execution_count": 12,
      "outputs": []
    },
    {
      "cell_type": "code",
      "source": [
        "%%capture\n",
        "#splitting \n",
        "group_list=[[i]*len(j) for i,j in enumerate(data_list)] #list of 0 for element 1 list of 1 for next etc multiplied bt length\n",
        "group_list"
      ],
      "metadata": {
        "id": "t-g-FafoGmaF"
      },
      "execution_count": 13,
      "outputs": []
    },
    {
      "cell_type": "code",
      "source": [
        "data_array=np.vstack(data_list) #stack arrays vertically\n",
        "label_array=np.hstack(label_list)\n",
        "group_array=np.hstack(group_list)"
      ],
      "metadata": {
        "id": "bxEar-fVRpX2"
      },
      "execution_count": 14,
      "outputs": []
    },
    {
      "cell_type": "code",
      "source": [
        "data_array = np.moveaxis(data_array,1,2)\n",
        "data_array.shape"
      ],
      "metadata": {
        "colab": {
          "base_uri": "https://localhost:8080/"
        },
        "id": "fsBZhcD_9h9_",
        "outputId": "b6727fcb-243e-4d49-f635-9ce97fbbce2b"
      },
      "execution_count": 15,
      "outputs": [
        {
          "output_type": "execute_result",
          "data": {
            "text/plain": [
              "(7201, 1250, 19)"
            ]
          },
          "metadata": {},
          "execution_count": 15
        }
      ]
    },
    {
      "cell_type": "code",
      "source": [
        "from tensorflow.keras.layers import Conv1D, BatchNormalization, LeakyReLU, MaxPool1D, \\\n",
        "GlobalAveragePooling1D, Dense, Dropout, AveragePooling1D\n",
        "from tensorflow.keras.models import Sequential\n",
        "from tensorflow.keras.backend import clear_session"
      ],
      "metadata": {
        "id": "mM1ZN0YE9vri"
      },
      "execution_count": 18,
      "outputs": []
    },
    {
      "cell_type": "code",
      "source": [
        "def CNN_Model():\n",
        "  clear_session()\n",
        "  model = Sequential()\n",
        "  model.add(Conv1D(filters=5,kernel_size=3,strides=1,input_shape=(1250,19))) #1\n",
        "  model.add(BatchNormalization())\n",
        "  model.add(LeakyReLU())\n",
        "  model.add(MaxPool1D(pool_size=2, strides=2))#2\n",
        "  model.add(Conv1D(filters=5,kernel_size=3,strides=1))#3\n",
        "  model.add(LeakyReLU())\n",
        "  model.add(MaxPool1D(pool_size=2,strides=2))#4\n",
        "  model.add(Dropout(0.5))\n",
        "  model.add(Conv1D(filters=5,kernel_size=3,strides=1))#5\n",
        "  model.add(LeakyReLU())\n",
        "  model.add(AveragePooling1D(pool_size=2,strides=2))#6\n",
        "  model.add(Dropout(0.5))\n",
        "  model.add(Conv1D(filters=5,kernel_size=3,strides=1))#7\n",
        "  model.add(LeakyReLU())\n",
        "  model.add(AveragePooling1D(pool_size=2,strides=2))#8\n",
        "  model.add(Conv1D(filters=5,kernel_size=3,strides=1))#9\n",
        "  model.add(LeakyReLU())\n",
        "  model.add(GlobalAveragePooling1D())#10\n",
        "  model.add(Dense(1,activation='sigmoid'))#11\n",
        "\n",
        "  model.compile('adam',loss='binary_crossentropy',metrics=['accuracy'])\n",
        "  return model"
      ],
      "metadata": {
        "id": "m37QlKEU_F9Y"
      },
      "execution_count": 19,
      "outputs": []
    },
    {
      "cell_type": "code",
      "source": [
        "model = CNN_Model()\n",
        "model.summary()"
      ],
      "metadata": {
        "colab": {
          "base_uri": "https://localhost:8080/"
        },
        "id": "DI_6YjkxBvUQ",
        "outputId": "7431bcca-1de0-40fb-fa09-c587ea2edbe3"
      },
      "execution_count": 20,
      "outputs": [
        {
          "output_type": "stream",
          "name": "stdout",
          "text": [
            "Model: \"sequential\"\n",
            "_________________________________________________________________\n",
            " Layer (type)                Output Shape              Param #   \n",
            "=================================================================\n",
            " conv1d (Conv1D)             (None, 1248, 5)           290       \n",
            "                                                                 \n",
            " batch_normalization (BatchN  (None, 1248, 5)          20        \n",
            " ormalization)                                                   \n",
            "                                                                 \n",
            " leaky_re_lu (LeakyReLU)     (None, 1248, 5)           0         \n",
            "                                                                 \n",
            " max_pooling1d (MaxPooling1D  (None, 624, 5)           0         \n",
            " )                                                               \n",
            "                                                                 \n",
            " conv1d_1 (Conv1D)           (None, 622, 5)            80        \n",
            "                                                                 \n",
            " leaky_re_lu_1 (LeakyReLU)   (None, 622, 5)            0         \n",
            "                                                                 \n",
            " max_pooling1d_1 (MaxPooling  (None, 311, 5)           0         \n",
            " 1D)                                                             \n",
            "                                                                 \n",
            " dropout (Dropout)           (None, 311, 5)            0         \n",
            "                                                                 \n",
            " conv1d_2 (Conv1D)           (None, 309, 5)            80        \n",
            "                                                                 \n",
            " leaky_re_lu_2 (LeakyReLU)   (None, 309, 5)            0         \n",
            "                                                                 \n",
            " average_pooling1d (AverageP  (None, 154, 5)           0         \n",
            " ooling1D)                                                       \n",
            "                                                                 \n",
            " dropout_1 (Dropout)         (None, 154, 5)            0         \n",
            "                                                                 \n",
            " conv1d_3 (Conv1D)           (None, 152, 5)            80        \n",
            "                                                                 \n",
            " leaky_re_lu_3 (LeakyReLU)   (None, 152, 5)            0         \n",
            "                                                                 \n",
            " average_pooling1d_1 (Averag  (None, 76, 5)            0         \n",
            " ePooling1D)                                                     \n",
            "                                                                 \n",
            " conv1d_4 (Conv1D)           (None, 74, 5)             80        \n",
            "                                                                 \n",
            " leaky_re_lu_4 (LeakyReLU)   (None, 74, 5)             0         \n",
            "                                                                 \n",
            " global_average_pooling1d (G  (None, 5)                0         \n",
            " lobalAveragePooling1D)                                          \n",
            "                                                                 \n",
            " dense (Dense)               (None, 1)                 6         \n",
            "                                                                 \n",
            "=================================================================\n",
            "Total params: 636\n",
            "Trainable params: 626\n",
            "Non-trainable params: 10\n",
            "_________________________________________________________________\n"
          ]
        }
      ]
    },
    {
      "cell_type": "code",
      "source": [
        "from sklearn.model_selection import GroupKFold, LeaveOneGroupOut\n",
        "from sklearn.preprocessing import StandardScaler"
      ],
      "metadata": {
        "id": "i_NsP9_hBx7_"
      },
      "execution_count": 21,
      "outputs": []
    },
    {
      "cell_type": "code",
      "source": [
        "group_k_fold = GroupKFold()"
      ],
      "metadata": {
        "id": "p_3jDQAJCGvz"
      },
      "execution_count": 22,
      "outputs": []
    },
    {
      "cell_type": "code",
      "source": [
        "accuracy = []\n",
        "for train_index, validation_index in group_k_fold.split(data_array,label_array,groups=group_array):\n",
        "  train_features, train_labels = data_array[train_index], label_array[train_index]\n",
        "  validation_features, validation_labels = data_array[validation_index], label_array[validation_index]\n",
        "  \n",
        "  scaler = StandardScaler()\n",
        "  train_features = scaler.fit_transform(train_features.reshape(-1,train_features.shape[-1])).reshape(train_features.shape)\n",
        "  validation_features = scaler.transform(validation_features.reshape(-1,validation_features.shape[-1])).reshape(validation_features.shape)\n",
        "  model = CNN_Model()\n",
        "  model.fit(train_features,train_labels,epochs=10,batch_size=100,validation_data=(validation_features,validation_labels))\n",
        "  accuracy.append(model.evaluate(validation_features,validation_labels)[1])\n",
        "  break"
      ],
      "metadata": {
        "colab": {
          "base_uri": "https://localhost:8080/"
        },
        "id": "489I7MiiEAsg",
        "outputId": "3326ff43-fc7e-48f8-812c-fde6e1086126"
      },
      "execution_count": 25,
      "outputs": [
        {
          "output_type": "stream",
          "name": "stdout",
          "text": [
            "Epoch 1/10\n",
            "58/58 [==============================] - 15s 211ms/step - loss: 0.6797 - accuracy: 0.5675 - val_loss: 0.7252 - val_accuracy: 0.3720\n",
            "Epoch 2/10\n",
            "58/58 [==============================] - 11s 193ms/step - loss: 0.6579 - accuracy: 0.5933 - val_loss: 0.6931 - val_accuracy: 0.3720\n",
            "Epoch 3/10\n",
            "58/58 [==============================] - 12s 200ms/step - loss: 0.6334 - accuracy: 0.5947 - val_loss: 0.6637 - val_accuracy: 0.3727\n",
            "Epoch 4/10\n",
            "58/58 [==============================] - 13s 220ms/step - loss: 0.5899 - accuracy: 0.6570 - val_loss: 0.6257 - val_accuracy: 0.6905\n",
            "Epoch 5/10\n",
            "58/58 [==============================] - 12s 207ms/step - loss: 0.5170 - accuracy: 0.7739 - val_loss: 0.6055 - val_accuracy: 0.6994\n",
            "Epoch 6/10\n",
            "58/58 [==============================] - 12s 202ms/step - loss: 0.4155 - accuracy: 0.8355 - val_loss: 0.6231 - val_accuracy: 0.6891\n",
            "Epoch 7/10\n",
            "58/58 [==============================] - 12s 199ms/step - loss: 0.3907 - accuracy: 0.8522 - val_loss: 0.7394 - val_accuracy: 0.5607\n",
            "Epoch 8/10\n",
            "58/58 [==============================] - 12s 200ms/step - loss: 0.3316 - accuracy: 0.8794 - val_loss: 1.1025 - val_accuracy: 0.4187\n",
            "Epoch 9/10\n",
            "58/58 [==============================] - 11s 196ms/step - loss: 0.3141 - accuracy: 0.8799 - val_loss: 1.1074 - val_accuracy: 0.4571\n",
            "Epoch 10/10\n",
            "58/58 [==============================] - 12s 209ms/step - loss: 0.2830 - accuracy: 0.9004 - val_loss: 1.1246 - val_accuracy: 0.4647\n",
            "46/46 [==============================] - 1s 27ms/step - loss: 1.1246 - accuracy: 0.4647\n"
          ]
        }
      ]
    },
    {
      "cell_type": "code",
      "source": [
        "np.mean(accuracy)"
      ],
      "metadata": {
        "colab": {
          "base_uri": "https://localhost:8080/"
        },
        "id": "ywOFZG-ZJZEr",
        "outputId": "bcd06567-7adc-4193-9308-ae9156fbcd08"
      },
      "execution_count": null,
      "outputs": [
        {
          "output_type": "execute_result",
          "data": {
            "text/plain": [
              "0.6719286441802979"
            ]
          },
          "metadata": {},
          "execution_count": 20
        }
      ]
    },
    {
      "cell_type": "code",
      "source": [
        ""
      ],
      "metadata": {
        "id": "0oKdSNDbMQp3"
      },
      "execution_count": null,
      "outputs": []
    }
  ]
}